{
 "cells": [
  {
   "cell_type": "code",
   "execution_count": 1,
   "id": "e79617ce-5c47-49b5-824f-c27a3506e1b4",
   "metadata": {},
   "outputs": [],
   "source": [
    "import math\n",
    "import matplotlib.pyplot as plt\n",
    "import numpy as np\n",
    "from astropy import units as u\n",
    "import os\n",
    "import requests\n",
    "from collections import defaultdict\n",
    "from scipy import interpolate\n",
    "import csv\n",
    "import pandas as pd\n",
    "from scipy import integrate"
   ]
  },
  {
   "cell_type": "markdown",
   "id": "c63cdc25-f5cf-49d8-8e53-9653e88f0ea7",
   "metadata": {},
   "source": [
    "Loading data from SPECTRA_parameters.dat (index, ra, dec, z, fracdev_g, petroR50_r, petroR90_r, eclass, myindex)"
   ]
  },
  {
   "cell_type": "code",
   "execution_count": 2,
   "id": "eb84b7f9-464e-42f3-8548-ff5a61c8128d",
   "metadata": {},
   "outputs": [],
   "source": [
    "# Define empty lists to store the data\n",
    "data_lists = []\n",
    "# Open the .dat file for reading\n",
    "with open(\"SPECTRA_parameters.dat\", \"r\") as file:\n",
    "    # Iterate through each line in the file\n",
    "    for line in file:\n",
    "        # Split the line into individual values using space as the delimiter\n",
    "        values = line.split()\n",
    "        #Convert the values to floats and append them to the data_lists\n",
    "        data_lists.append([float(value) for value in values])\n",
    "        \n",
    "data_array = np.array(data_lists)\n",
    "\n",
    "# Now, data_lists contains the data as a list of lists\n",
    "# Each inner list represents a row of data with numerical values"
   ]
  },
  {
   "cell_type": "markdown",
   "id": "ec6b3e58-e392-4a85-afa3-c475d12a5e75",
   "metadata": {},
   "source": [
    "Data from each .dat file within SPECTRA directory stored in a dictionary, where the keys are the index to each galaxy"
   ]
  },
  {
   "cell_type": "code",
   "execution_count": 3,
   "id": "d40c8a0f-e24b-49bf-a72c-863e74aa3769",
   "metadata": {},
   "outputs": [],
   "source": [
    "#define dictionary to store spectral data in\n",
    "spectra = {}\n",
    "\n",
    "#directory that data is stored in\n",
    "dir = r\"C:\\Users\\julia\\Documents\\GradCourses\\Galaxies_ASTR_5533\\project_1\\SPECTRA\"\n",
    "\n",
    "#lists all files in the directory dir\n",
    "filelist = os.listdir(dir)\n",
    "\n",
    "for filename in filelist:\n",
    "    if filename.endswith(\".dat\"):\n",
    "        file_path = os.path.join(dir, filename)\n",
    "        spec = []\n",
    "        \n",
    "        #open and read the file \n",
    "        with open(file_path, \"r\") as file:\n",
    "            for line in file:\n",
    "                values=line.split()\n",
    "                try:\n",
    "                    spec.append([float(value) for value in values])\n",
    "                    \n",
    "                except ValueError:\n",
    "                    continue\n",
    "        if spec:\n",
    "            data = np.array(spec)\n",
    "            #splitting the name of file to use the numbers as the \"keys\" to my dictionary\n",
    "            index = filename.split(\"-\")[1].split(\".\")[0]\n",
    "            spectra[index] = data"
   ]
  },
  {
   "cell_type": "code",
   "execution_count": 4,
   "id": "12bbb4af-2013-48d8-a6c1-218da1a7fdb4",
   "metadata": {},
   "outputs": [],
   "source": [
    "#define a dict to store filtered spectra\n",
    "filtered_spec= {}\n",
    "\n",
    "column = 3\n",
    "for key, data in spectra.items():\n",
    "    mask = data[:,column] > 0\n",
    "    filtered_data = data[mask]\n",
    "    filtered_spec[key] = filtered_data"
   ]
  },
  {
   "cell_type": "markdown",
   "id": "42a61f3a-9ddd-44b0-b708-d664c6d21af7",
   "metadata": {},
   "source": [
    "Downloading filter data:"
   ]
  },
  {
   "cell_type": "code",
   "execution_count": 5,
   "id": "91ac14dc-f5e7-4a36-87b1-de3852fbea80",
   "metadata": {},
   "outputs": [],
   "source": [
    "g_url = 'https://classic.sdss.org/dr7/instruments/imager/filters/g.dat'\n",
    "r_url = 'https://classic.sdss.org/dr7/instruments/imager/filters/r.dat'\n",
    "\n",
    "g = requests.get(g_url)\n",
    "r = requests.get(r_url)\n",
    "\n",
    "g_lines = g.text.split('\\n')\n",
    "r_lines = r.text.split('\\n')\n",
    "\n",
    "g_res = []\n",
    "g_wvln = []\n",
    "\n",
    "r_res = []\n",
    "r_wvln = []\n",
    "\n",
    "for line in g_lines:\n",
    "    if not line.startswith('#'):\n",
    "        columns = line.split()\n",
    "        if len(columns) >= 3:\n",
    "            wavelength = columns[0]\n",
    "            resp = columns[2]\n",
    "            \n",
    "        g_res.append(resp)\n",
    "        g_wvln.append(wavelength)\n",
    "\n",
    "g_resp = [float(value) for value in g_res]\n",
    "g_wavlen = [float(value) for value in g_wvln]\n",
    "\n",
    "for line in r_lines:\n",
    "    if not line.startswith('#'):\n",
    "        columns = line.split()\n",
    "        if len(columns) >= 3:\n",
    "            wavelength = columns[0]\n",
    "            resp = columns[2]\n",
    "            \n",
    "        r_res.append(resp)\n",
    "        r_wvln.append(wavelength)\n",
    "        \n",
    "r_resp = [float(value) for value in r_res]\n",
    "r_wavlen = [float(value) for value in r_wvln]"
   ]
  },
  {
   "cell_type": "markdown",
   "id": "7db23138-c86c-4deb-ba41-679dbc7b46d1",
   "metadata": {},
   "source": [
    "Calculating the observed magnitudes for both r and g-band:"
   ]
  },
  {
   "cell_type": "code",
   "execution_count": 6,
   "id": "3a187a7d-18fd-45ee-aeaf-105bdf3638fc",
   "metadata": {},
   "outputs": [],
   "source": [
    "##need to interpolate filter data so I can estimate the filter response at the exact wavelength of my spectral data\n",
    "#filter data:\n",
    "#mean_lambda_g, mean_resp_g, mean_lambda_r, mean_resp_r\n",
    "#spectral data:\n",
    "#filtered_spectra[i][0] --> this is the wavelength column, the 'i' to filter through each galaxy, filtered_spectra[i][1] --> reddening corrected flux column \n",
    "\n",
    "# Dictionaries to store obs magnitude values in, as well as the interpolated filter responses\n",
    "Mobs_r = {}\n",
    "Mobs_g = {}\n",
    "\n",
    "#data iterates through each array (galaxy) in filtered_Spectra\n",
    "for key, data in filtered_spec.items():\n",
    "    # Extract wavelengths and fluxes from each galaxy\n",
    "    wavlen_obs = data[:, 0]\n",
    "    flux = data[:, 1]\n",
    "     \n",
    "    # Calculate differential wavelength for each galaxy\n",
    "    dlambda_r = np.gradient(wavlen_obs)\n",
    "    dlambda_g = np.gradient(wavlen_obs)\n",
    "\n",
    "    # Use interpolation to estimate filter response at galaxy's wavelengths\n",
    "    #this interpolates the response values at the positions of my wavelengths in wavelen_obs\n",
    "    #for each wavelength in wavelen_obs, it finds the closest wavelengths in mean_lambda_r/g, and performs linear interpolation b/w the respons values corresponding to those two closest\n",
    "    #wavelengths to estimate the response at the given wavelength in wavelen_obs\n",
    "    interp_resp_r = np.interp(wavlen_obs, r_wavlen, r_resp)\n",
    "    interp_resp_g = np.interp(wavlen_obs, g_wavlen, g_resp)\n",
    "\n",
    "    #filt_resp_r[key] = interp_resp_r\n",
    "    r_int = np.trapz(flux*interp_resp_r*(wavlen_obs**2)*dlambda_r, wavlen_obs)\n",
    "    r_mobs = -2.5 * np.log(r_int)\n",
    "    Mobs_r[key] = r_mobs\n",
    "\n",
    "    #filt_resp_g[key] = interp_resp_g\n",
    "    g_int = np.trapz(flux*interp_resp_g*(wavlen_obs**2)*dlambda_g, wavlen_obs)\n",
    "    g_mobs = -2.5 * np.log(g_int)\n",
    "    Mobs_g[key] = g_mobs"
   ]
  },
  {
   "cell_type": "code",
   "execution_count": 7,
   "id": "c43fa162-26e6-4bae-a6bf-fa17a4bb96c1",
   "metadata": {},
   "outputs": [],
   "source": [
    "z_dict = {}  # Dictionary to store redshifts\n",
    "\n",
    "for key, data in filtered_spec.items():\n",
    "    index_match = int(key)  # Convert key to an integer\n",
    "    z = data_array[data_array[:, 0] == index_match, 3][0]  # Find the corresponding redshift\n",
    "    z_dict[key] = z  # Store the redshift in a dictionary\n",
    "\n",
    "    # Now you can use the redshift (z) to calculate the rest frame wavelengths\n",
    "   # wavlen_obs = data[:, 0]\n",
    "    #wave_rest = wavlen_obs / (1 + z)"
   ]
  },
  {
   "cell_type": "code",
   "execution_count": 8,
   "id": "92de9af5-cd60-48ef-9e4f-1a790cb2e230",
   "metadata": {},
   "outputs": [],
   "source": [
    "Mrest_r = {}\n",
    "Mrest_g = {}\n",
    "\n",
    "for key, data in filtered_spec.items():\n",
    "    wavlen_obs = data[:,0]\n",
    "    flux = data[:, 1]\n",
    "    \n",
    "    z = z_dict[key]\n",
    "        \n",
    "    wavrest = wavlen_obs / (1+z)\n",
    "    \n",
    "    # Calculate differential wavelength for each galaxy\n",
    "    dlambda_rest = np.gradient(wavrest)\n",
    "    dlambda_g_rest = np.gradient(wavrest)\n",
    "        \n",
    "    interp_rest_r = np.interp(wavrest, r_wavlen, r_resp)\n",
    "    interp_rest_g = np.interp(wavrest, g_wavlen, g_resp)\n",
    "        \n",
    "        #r_filtresp[key] = interp_rest_r\n",
    "        #g_filtresp[key] = interp_rest_g\n",
    "        \n",
    "    r_int = np.trapz(flux*interp_rest_r*(wavrest**2)*dlambda_rest, wavrest)\n",
    "    g_int = np.trapz(flux*interp_rest_g*(wavrest**2)*dlambda_g_rest, wavrest)\n",
    "        \n",
    "    r_mrest = -2.5 * np.log(r_int)\n",
    "    g_mrest = -2.5 * np.log(g_int)\n",
    "     \n",
    "        \n",
    "    Mrest_r[key] = r_mrest\n",
    "    Mrest_g[key] = g_mrest"
   ]
  },
  {
   "cell_type": "code",
   "execution_count": 9,
   "id": "cca86e34-c66b-4fbe-b41a-62dd1ac306f3",
   "metadata": {},
   "outputs": [],
   "source": [
    "# Create dictionaries to store the differences in magnitudes\n",
    "K_r = {}\n",
    "K_g = {}\n",
    "\n",
    "# Iterate through the galaxies in your dictionaries\n",
    "for key in Mobs_r:\n",
    "    if key in Mrest_r and key in Mobs_g and key in Mrest_g:\n",
    "        # Calculate the difference in magnitudes for each filter\n",
    "        K_r[key] = abs(Mobs_r[key] - Mrest_r[key])\n",
    "        K_g[key] = abs(Mobs_g[key] - Mrest_g[key])"
   ]
  },
  {
   "cell_type": "code",
   "execution_count": 10,
   "id": "0e4d42fd-cb85-4c1f-af72-b5221c1be8a5",
   "metadata": {},
   "outputs": [],
   "source": [
    "fracdev_g = {}\n",
    "\n",
    "for row in data_array:\n",
    "    key1 = f\"{int(float(row[0])):04d}\"\n",
    "    key = key1.strip()\n",
    "    value = row[4]\n",
    "    fracdev_g[key] = value"
   ]
  },
  {
   "cell_type": "code",
   "execution_count": 11,
   "id": "8512f507-2ab0-4901-b17a-e5c75b6c3cf6",
   "metadata": {},
   "outputs": [],
   "source": [
    "from collections import defaultdict\n",
    "\n",
    "# Define your redshift bins (modify these to match your data)\n",
    "bin_edges = [0.0, 0.02, 0.04, 0.06, 0.08, 0.10, 0.12, 0.14, 0.16, 0.18, 0.20, 0.22, 0.24, 0.26, 0.28]\n",
    "\n",
    "# Create a dictionary to store the median values for each bin\n",
    "K_med_r = defaultdict(list)\n",
    "K_med_g = defaultdict(list)\n",
    "\n",
    "# Iterate through the redshift bins\n",
    "for i in range(len(bin_edges) - 1):\n",
    "    bin_start = bin_edges[i]\n",
    "    bin_end = bin_edges[i + 1]\n",
    "\n",
    "    # Collect the K_r values within the current redshift bin\n",
    "    kr_values = [kr for key, kr in K_r.items() if bin_start <= z_dict[key] < bin_end]\n",
    "    kg_values = [kg for key, kg in K_g.items() if bin_start <= z_dict[key] < bin_end]\n",
    "    # Calculate the median of K_r values within the bin\n",
    "    med_r = np.median(kr_values)\n",
    "    med_g = np.median(kg_values)\n",
    "    \n",
    "    # Store the median value for this bin\n",
    "    K_med_r[(bin_start, bin_end)] = med_r\n",
    "    K_med_g[(bin_start, bin_end)] = med_g"
   ]
  },
  {
   "cell_type": "code",
   "execution_count": 12,
   "id": "eb53db0b-ec9a-40ac-ad2d-5785eab06ece",
   "metadata": {
    "tags": []
   },
   "outputs": [
    {
     "data": {
      "image/png": "[encoded data removed]",
      "text/plain": [
       "<Figure size 432x288 with 1 Axes>"
      ]
     },
     "metadata": {
      "needs_background": "light"
     },
     "output_type": "display_data"
    }
   ],
   "source": [
    "# Your code for setting bin_edges\n",
    "bin_edges = [0.0, 0.02, 0.04, 0.06, 0.08, 0.10, 0.12, 0.14, 0.16, 0.18, 0.20, 0.22, 0.24, 0.26, 0.28]\n",
    "#K_med_r = defaultdict(list)\n",
    "\n",
    "z_values = []\n",
    "kr_values = []\n",
    "\n",
    "for key in fracdev_g:\n",
    "    cleaned_key = key.strip()\n",
    "    if cleaned_key in z_dict and cleaned_key in K_r:\n",
    "        z = z_dict[cleaned_key]\n",
    "        if fracdev_g[cleaned_key] == 1:\n",
    "            z_values.append(z)\n",
    "            kr_values.append(K_r[cleaned_key])\n",
    "\n",
    "# Plot the actual K_r values versus redshift\n",
    "plt.plot(z_values, kr_values, marker='o', linestyle='', color='blue', markersize = 1,label='K')\n",
    "\n",
    "bin_centers = []\n",
    "Kcorr_r_med1 = []\n",
    "\n",
    "for i in range(len(bin_edges) - 1):\n",
    "    bin_start = bin_edges[i]\n",
    "    bin_end = bin_edges[i + 1]\n",
    "\n",
    "    # Collect the K_r values within the current redshift bin\n",
    "    kr_values_inbin = [kr for z, kr in zip(z_values, kr_values) if bin_start <= z < bin_end]\n",
    "\n",
    "    if kr_values_inbin:\n",
    "        med_r = np.median(kr_values_inbin)\n",
    "        bin_centers.append((bin_start + bin_end) / 2)\n",
    "        Kcorr_r_med1.append(med_r)\n",
    "        K_med_r[(bin_start, bin_end)] = med_r\n",
    "\n",
    "# Plot the median K_r values\n",
    "plt.plot(bin_centers, Kcorr_r_med1, marker='o', linestyle='-', color='red', markersize = 2, label='Median $K_r$')\n",
    "\n",
    "# Your code for setting labels and legend\n",
    "plt.xlabel('Redshift (Z)')\n",
    "plt.ylabel('$K_r$')\n",
    "plt.ylim(0, 0.4)\n",
    "plt.title(\"Kcorr vs Z, fracdev_g = 1, r-band\")\n",
    "plt.legend()\n",
    "plt.savefig(\"kcorr_r_fracdev1.png\")\n",
    "plt.show()"
   ]
  },
  {
   "cell_type": "code",
   "execution_count": 13,
   "id": "abef18d6-90ed-42e3-9689-c9201931136a",
   "metadata": {},
   "outputs": [
    {
     "data": {
      "image/png": "[encoded data removed]",
      "text/plain": [
       "<Figure size 432x288 with 1 Axes>"
      ]
     },
     "metadata": {
      "needs_background": "light"
     },
     "output_type": "display_data"
    }
   ],
   "source": [
    "z_values_g = []\n",
    "kg_values = []\n",
    "\n",
    "for key in fracdev_g:\n",
    "    cleaned_key = key.strip()\n",
    "    if cleaned_key in z_dict and cleaned_key in K_r:\n",
    "        z = z_dict[cleaned_key]\n",
    "        if fracdev_g[cleaned_key] == 1:\n",
    "            z_values_g.append(z)\n",
    "            kg_values.append(K_g[cleaned_key])\n",
    "kg = np.array(z_values_g) + np.array(kg_values)\n",
    "# Plot the actual K_r values versus redshift\n",
    "plt.plot(z_values_g, kg_values, marker='o', linestyle='', color='blue', markersize = 1,label='K')\n",
    "\n",
    "bin_centers_g = []\n",
    "Kcorr_g_med1 = []\n",
    "\n",
    "for i in range(len(bin_edges) - 1):\n",
    "    bin_start = bin_edges[i]\n",
    "    bin_end = bin_edges[i + 1]\n",
    "\n",
    "    # Collect the K_r values within the current redshift bin\n",
    "    kg_values_inbin = [kg for z, kg in zip(z_values_g, kg_values) if bin_start <= z < bin_end]\n",
    "\n",
    "    if kg_values_inbin:\n",
    "        med_g = np.median(kg_values_inbin)\n",
    "        bin_centers_g.append((bin_start + bin_end) / 2)\n",
    "        Kcorr_g_med1.append(med_g)\n",
    "        K_med_g[(bin_start, bin_end)] = med_g\n",
    "\n",
    "g_kcorr = np.array(Kcorr_g_med1) + np.array(bin_centers_g)\n",
    "# Plot the median K_r values\n",
    "plt.plot(bin_centers_g, Kcorr_g_med1, marker='o', linestyle='-', color='red', markersize = 2, label='Median $K_g$')\n",
    "\n",
    "# Your code for setting labels and legend\n",
    "plt.xlabel('Redshift (Z)')\n",
    "plt.ylabel('$K_g$')\n",
    "plt.ylim(0, 2)\n",
    "plt.title(\"Kcorr vs Z, fracdev_g = 1, g-band\")\n",
    "plt.legend()\n",
    "plt.savefig(\"kcorr_g_fracdev1.png\")\n",
    "plt.show()"
   ]
  },
  {
   "cell_type": "code",
   "execution_count": 14,
   "id": "1f94ae76-9947-4fbe-84e3-4119602a0dcb",
   "metadata": {},
   "outputs": [
    {
     "data": {
      "image/png": "[encoded data removed]",
      "text/plain": [
       "<Figure size 432x288 with 1 Axes>"
      ]
     },
     "metadata": {
      "needs_background": "light"
     },
     "output_type": "display_data"
    }
   ],
   "source": [
    "K_med_rlt1 = defaultdict(list)\n",
    "z_values_lt1 = []\n",
    "kr_values_lt1 = []\n",
    "\n",
    "for key in fracdev_g:\n",
    "    cleaned_key = key.strip()\n",
    "    if cleaned_key in z_dict and cleaned_key in K_r:\n",
    "        z = z_dict[cleaned_key]\n",
    "        if fracdev_g[cleaned_key] < 1:\n",
    "            z_values_lt1.append(z)\n",
    "            kr_values_lt1.append(K_r[cleaned_key])\n",
    "\n",
    "# Plot the actual K_r values versus redshift\n",
    "plt.plot(z_values_lt1, kr_values_lt1, marker='o', linestyle='', color='blue', markersize = 1,label='K')\n",
    "\n",
    "bin_centers_rlt1 = []\n",
    "Kcorr_r_medlt1 = []\n",
    "\n",
    "for i in range(len(bin_edges) - 1):\n",
    "    bin_start = bin_edges[i]\n",
    "    bin_end = bin_edges[i + 1]\n",
    "\n",
    "    # Collect the K_r values within the current redshift bin\n",
    "    kr_values_inbin = [kr for z, kr in zip(z_values_lt1, kr_values_lt1) if bin_start <= z < bin_end]\n",
    "\n",
    "    if kr_values_inbin:\n",
    "        med_r = np.median(kr_values_inbin)\n",
    "        bin_centers_rlt1.append((bin_start + bin_end) / 2)\n",
    "        Kcorr_r_medlt1.append(med_r)\n",
    "        K_med_rlt1[(bin_start, bin_end)] = med_r\n",
    "\n",
    "# Plot the median K_r values\n",
    "plt.plot(bin_centers_rlt1, Kcorr_r_medlt1, marker='o', linestyle='-', color='red', markersize = 2, label='Median $K_r$')\n",
    "\n",
    "# Your code for setting labels and legend\n",
    "plt.xlabel('Redshift (Z)')\n",
    "plt.ylabel('$K_r$')\n",
    "plt.ylim(0, 0.4)\n",
    "plt.title(\"Kcorr vs Z, fracdev_g < 1, r-band\")\n",
    "plt.legend()\n",
    "plt.savefig(\"kcorr_r_fracdevLT1.png\")\n",
    "plt.show()"
   ]
  },
  {
   "cell_type": "code",
   "execution_count": 15,
   "id": "4a60fced-8dc3-467d-b366-2b25c8470ce7",
   "metadata": {},
   "outputs": [
    {
     "data": {
      "image/png": "[encoded data removed]",
      "text/plain": [
       "<Figure size 432x288 with 1 Axes>"
      ]
     },
     "metadata": {
      "needs_background": "light"
     },
     "output_type": "display_data"
    }
   ],
   "source": [
    "z_values_glt1 = []\n",
    "kg_values_lt1 = []\n",
    "\n",
    "for key in fracdev_g:\n",
    "    cleaned_key = key.strip()\n",
    "    if cleaned_key in z_dict and cleaned_key in K_r:\n",
    "        z = z_dict[cleaned_key]\n",
    "        if fracdev_g[cleaned_key] < 1:\n",
    "            z_values_glt1.append(z)\n",
    "            kg_values_lt1.append(K_g[cleaned_key])\n",
    "\n",
    "# Plot the actual K_r values versus redshift\n",
    "plt.plot(z_values_glt1, kg_values_lt1, marker='o', linestyle='', color='blue', markersize = 1,label='K')\n",
    "\n",
    "bin_centers_glt1 = []\n",
    "Kcorr_g_medlt1 = []\n",
    "\n",
    "for i in range(len(bin_edges) - 1):\n",
    "    bin_start = bin_edges[i]\n",
    "    bin_end = bin_edges[i + 1]\n",
    "\n",
    "    # Collect the K_r values within the current redshift bin\n",
    "    kg_values_inbin = [kg for z, kg in zip(z_values_glt1, kg_values_lt1) if bin_start <= z < bin_end]\n",
    "\n",
    "    if kg_values_inbin:\n",
    "        med_g = np.median(kg_values_inbin)\n",
    "        bin_centers_glt1.append((bin_start + bin_end) / 2)\n",
    "        Kcorr_g_medlt1.append(med_g)\n",
    "        K_med_g[(bin_start, bin_end)] = med_g\n",
    "\n",
    "# Plot the median K_r values\n",
    "plt.plot(bin_centers_glt1, Kcorr_g_medlt1, marker='o', linestyle='-', color='red', markersize = 2, label='Median $K_g$')\n",
    "\n",
    "# Your code for setting labels and legend\n",
    "plt.xlabel('Redshift (Z)')\n",
    "plt.ylabel('$K_g$')\n",
    "plt.ylim(0, 2)\n",
    "plt.title(\"Kcorr vs Z, fracdev_g < 1, g-band\")\n",
    "plt.legend()\n",
    "plt.savefig(\"kcorr_g_fracdevLT1.png\")\n",
    "plt.show()"
   ]
  },
  {
   "cell_type": "code",
   "execution_count": 16,
   "id": "ecf651c9-cc2f-4e07-98a9-b6148ce38061",
   "metadata": {},
   "outputs": [
    {
     "data": {
      "text/plain": [
       "[0.018829867529262856,\n",
       " 0.03023388016610795,\n",
       " 0.04072324845634867,\n",
       " 0.052305407804020376,\n",
       " 0.05975698719949207,\n",
       " 0.09049085935134826,\n",
       " 0.12509450009318357,\n",
       " 0.18585009106445938,\n",
       " 0.29627478490791503,\n",
       " 0.39990147081608285,\n",
       " 0.28529072290501745,\n",
       " 0.42166994404085756]"
      ]
     },
     "execution_count": 16,
     "metadata": {},
     "output_type": "execute_result"
    }
   ],
   "source": [
    "edges = [0.02, 0.04, 0.06, 0.08, 0.10, 0.12, 0.14, 0.16, 0.18, 0.20, 0.22, 0.24, 0.26]\n",
    "\n",
    "#\"actual\" z-values:\n",
    "z_values #r band fracdev = 1\n",
    "z_values_g #g band fracdev = 1 \n",
    "z_values_lt1 #r band frac dev < 1\n",
    "z_values_glt1 #g band frac dev < 1\n",
    "\n",
    "bin_centers\n",
    "bin_centers_g\n",
    "bin_centers_rlt1\n",
    "bin_centers_glt1\n",
    "\n",
    "#Kcorr median values:\n",
    "Kcorr_r_med1 #fracdev = 1; r band\n",
    "Kcorr_g_med1 #fracdev = 1; g band\n",
    "K_med_rlt1 #fracdev < 1; r band\n",
    "Kcorr_g_medlt1 #fracdev < 1; g band"
   ]
  },
  {
   "cell_type": "code",
   "execution_count": 17,
   "id": "fff714bd-f237-42df-931f-9a1db7ee9eec",
   "metadata": {},
   "outputs": [],
   "source": [
    "k_r_1 = interpolate.interp1d(bin_centers, Kcorr_r_med1, bounds_error=False) #, kind = 'cubic')\n",
    "k_r_lt1 = interpolate.interp1d(bin_centers_rlt1, Kcorr_r_medlt1, bounds_error=False) #, kind = 'cubic')\n",
    "k_g_1 = interpolate.interp1d(bin_centers_g, Kcorr_g_med1, bounds_error=False) #, kind = 'cubic')\n",
    "k_g_lt1 = interpolate.interp1d(bin_centers_glt1, Kcorr_g_medlt1, bounds_error=False) #, kind = 'cubic')"
   ]
  },
  {
   "cell_type": "code",
   "execution_count": 18,
   "id": "a5cb70ee-98f3-4446-ba83-3ca96c10fa2c",
   "metadata": {},
   "outputs": [],
   "source": [
    "sampleA = pd.read_csv('sampleA1_jerobe.csv')\n",
    "sampleB = pd.read_csv('sampleB1_jerobe.csv')"
   ]
  },
  {
   "cell_type": "markdown",
   "id": "74d681c8-943b-4c6a-9fd9-e29004bf2d31",
   "metadata": {},
   "source": [
    "Cutting down sample size to be within proper redshift range:"
   ]
  },
  {
   "cell_type": "code",
   "execution_count": 19,
   "id": "f07aca44-427d-4dbb-a009-f41e6cec6ecb",
   "metadata": {},
   "outputs": [],
   "source": [
    "sampleA_z = sampleA[(sampleA[\"z\"]<0.26)&(sampleA[\"z\"]>0.01)]\n",
    "# Reset the index of the filtered DataFrame\n",
    "sampleA_z = sampleA_z.reset_index(drop=True)\n",
    "sampleB_z = sampleB[(sampleB[\"z\"]<0.26)&(sampleB[\"z\"]>0.01)]\n",
    "sampleB_z = sampleB_z.reset_index(drop=True)"
   ]
  },
  {
   "cell_type": "markdown",
   "id": "0ffc37ee-08da-438e-b52a-e3b5f315cebd",
   "metadata": {},
   "source": [
    "Interpolating for each sample:"
   ]
  },
  {
   "cell_type": "code",
   "execution_count": 20,
   "id": "58ff9644-e72c-40e6-8d37-f2225b555fa0",
   "metadata": {},
   "outputs": [],
   "source": [
    "k_r_a = k_r_1(sampleA_z['z'])\n",
    "sampleA_z[\"k_r\"] = k_r_a\n",
    "\n",
    "k_g_a = k_g_1(sampleA_z['z'])\n",
    "sampleA_z[\"k_g\"] = k_g_a\n",
    "\n",
    "k_r_b = k_r_lt1(sampleB_z['z'])\n",
    "sampleB_z[\"k_r\"] = k_r_b\n",
    "\n",
    "k_g_b = k_g_lt1(sampleB_z['z'])\n",
    "sampleB_z[\"k_g\"] = k_g_b"
   ]
  },
  {
   "cell_type": "code",
   "execution_count": 21,
   "id": "9f76d01e-3b35-469f-9236-e19efc88966c",
   "metadata": {},
   "outputs": [],
   "source": [
    "def e_int(z):\n",
    "    omega_m = 0.3\n",
    "    omega_lambda = 0.7\n",
    "    e = ((1+z)**2*(1+omega_m*z) - omega_lambda*z*(2+z))**(-1./2.)\n",
    "    return e\n",
    "\n",
    "def properdist(z):\n",
    "    H_0 = 70 #km/s/Mpc\n",
    "    c = 3*10**5 #km/s\n",
    "    d_p = (c/H_0)*integrate.quad(e_int,0,z)[0] #Mpc\n",
    "    return d_p #Mpc\n",
    "\n",
    "def luminosity_dist(z):\n",
    "    d_p = properdist(z)\n",
    "    d_L = (1+z)*d_p\n",
    "    return d_L*10**6. #parsec\n",
    "\n",
    "def angular_dist(z):\n",
    "    d_p = properdist(z)\n",
    "    d_A = d_p/(1+z)\n",
    "    return d_A*10**3 #kiloparsec"
   ]
  },
  {
   "cell_type": "code",
   "execution_count": 22,
   "id": "2055c966-6028-405f-acf4-8afc1422aaaf",
   "metadata": {},
   "outputs": [
    {
     "name": "stderr",
     "output_type": "stream",
     "text": [
      "C:\\Users\\julia\\anaconda3\\lib\\site-packages\\pandas\\core\\arraylike.py:397: RuntimeWarning: divide by zero encountered in log10\n",
      "  result = getattr(ufunc, method)(*inputs, **kwargs)\n"
     ]
    }
   ],
   "source": [
    "#calculating luminosity dist:\n",
    "sampleA_z[\"d_L\"] = sampleA_z[\"z\"].apply(lambda x: luminosity_dist(x))\n",
    "sampleB_z[\"d_L\"] = sampleB_z[\"z\"].apply(lambda x: luminosity_dist(x))\n",
    "\n",
    "#calculating angular dist:\n",
    "sampleA_z[\"d_A\"] = sampleA_z[\"z\"].apply(lambda x: luminosity_dist(x))\n",
    "sampleB_z[\"d_A\"] = sampleB_z[\"z\"].apply(lambda x: luminosity_dist(x))\n",
    "\n",
    "#calculating abs magnitude:\n",
    "sampleA_z[\"M_g\"] =  sampleA_z[\"devmag_g\"] - 5*np.log10(sampleA_z[\"d_L\"]) + 5 -  sampleA_z[\"k_g\"] - sampleA_z[\"extinction_g\"]\n",
    "sampleA_z[\"M_r\"] =  sampleA_z[\"devmag_r\"] - 5*np.log10(sampleA_z[\"d_L\"]) + 5 -  sampleA_z[\"k_r\"] - sampleA_z[\"extinction_r\"]\n",
    "\n",
    "sampleB_z[\"M_g\"] =  sampleB_z[\"expmag_g\"] - 5*np.log10(sampleB_z[\"d_L\"]) + 5 -  sampleB_z[\"k_g\"] - sampleB_z[\"extinction_g\"]\n",
    "sampleB_z[\"M_r\"] =  sampleB_z[\"expmag_r\"] - 5*np.log10(sampleB_z[\"d_L\"]) + 5 -  sampleB_z[\"k_r\"] - sampleB_z[\"extinction_r\"]\n",
    "\n",
    "#calculating effective radius\n",
    "sampleA_z[\"r_eff_g\"]=sampleA_z[\"devrad_g\"]*np.sqrt(sampleA_z[\"devab_g\"]) / 206265\n",
    "sampleA_z[\"r_eff_r\"]=sampleA_z[\"devrad_r\"]*np.sqrt(sampleA_z[\"devab_r\"]) / 206265\n",
    "\n",
    "sampleB_z[\"r_eff_g\"]=sampleB_z[\"exprad_g\"]*np.sqrt(sampleB_z[\"expab_g\"]) / 206265\n",
    "sampleB_z[\"r_eff_r\"]=sampleB_z[\"exprad_r\"]*np.sqrt(sampleB_z[\"expab_r\"]) / 206265\n",
    "\n",
    "#calculating effective radius in arcsecs:\n",
    "sampleA_z[\"r_eff_g_arc\"]=sampleA_z[\"devrad_g\"]*np.sqrt(sampleA_z[\"devab_g\"]) \n",
    "sampleA_z[\"r_eff_r_arc\"]=sampleA_z[\"devrad_r\"]*np.sqrt(sampleA_z[\"devab_r\"]) \n",
    "\n",
    "sampleB_z[\"r_eff_g_arc\"]=sampleB_z[\"exprad_g\"]*np.sqrt(sampleB_z[\"expab_g\"]) \n",
    "sampleB_z[\"r_eff_r_arc\"]=sampleB_z[\"exprad_r\"]*np.sqrt(sampleB_z[\"expab_r\"]) \n",
    "\n",
    "#calculating physical size:\n",
    "sampleA_z['size_g'] = sampleA_z['r_eff_g']*sampleA_z['d_L']\n",
    "sampleA_z['size_r'] = sampleA_z['r_eff_r']*sampleA_z['d_L']\n",
    "sampleB_z['size_g'] = sampleB_z['r_eff_g']*sampleB_z['d_L']\n",
    "sampleB_z['size_r'] = sampleB_z['r_eff_r']*sampleB_z['d_L']\n",
    "\n",
    "#calculating surf brightness:\n",
    "sampleA_z[\"sb_g\"] = sampleA_z[\"devmag_g\"] - sampleA_z[\"k_g\"] + 5*np.log10(sampleA_z[\"r_eff_g_arc\"]) + 2.5*np.log10(2*np.pi) - 10*np.log10(1+sampleA_z[\"z\"])\n",
    "sampleA_z[\"sb_r\"] = sampleA_z[\"devmag_r\"] - sampleA_z[\"k_r\"] + 5*np.log10(sampleA_z[\"r_eff_r_arc\"]) + 2.5*np.log10(2*np.pi) - 10*np.log10(1+sampleA_z[\"z\"])\n",
    "\n",
    "sampleB_z[\"sb_g\"] = sampleB_z[\"devmag_g\"] - sampleB_z[\"k_g\"] + 5*np.log10(sampleB_z[\"r_eff_g_arc\"]) + 2.5*np.log10(2*np.pi) - 10*np.log10(1+sampleB_z[\"z\"])\n",
    "sampleB_z[\"sb_r\"] = sampleB_z[\"devmag_r\"] - sampleB_z[\"k_r\"] + 5*np.log10(sampleB_z[\"r_eff_r_arc\"]) + 2.5*np.log10(2*np.pi) - 10*np.log10(1+sampleB_z[\"z\"])"
   ]
  },
  {
   "cell_type": "code",
   "execution_count": 23,
   "id": "00b0d4a7-289d-4659-9c14-1eb9531c4903",
   "metadata": {},
   "outputs": [],
   "source": [
    "sampleA_z.to_csv(\"../sampleA_proj1.csv\",index=False)\n",
    "sampleB_z.to_csv(\"../sampleB_proj1.csv\",index=False)"
   ]
  },
  {
   "cell_type": "markdown",
   "id": "572e6bf3-824f-4536-9473-9b5f1f5de076",
   "metadata": {},
   "source": [
    "Plotting:"
   ]
  },
  {
   "cell_type": "code",
   "execution_count": 26,
   "id": "c3c8a512-6b8e-4745-b733-35a5d9283e02",
   "metadata": {},
   "outputs": [
    {
     "data": {
      "image/png": "[encoded data removed]",
      "text/plain": [
       "<Figure size 432x288 with 1 Axes>"
      ]
     },
     "metadata": {
      "needs_background": "light"
     },
     "output_type": "display_data"
    }
   ],
   "source": [
    "plt.hist(sampleA_z[\"M_g\"],bins=20,alpha=0.5,label=\"g-band\", color = 'cyan')\n",
    "plt.hist(sampleA_z[\"M_r\"],bins=20,alpha=0.5,label=\"r-band\", color = 'darkorange')\n",
    "plt.title(\"Absolute Magnitude for galaxies in Sample A\")\n",
    "plt.xlabel(\"Absolute Magnitude\")\n",
    "plt.xlim(-25,-15)\n",
    "plt.ylim(0, 60000)\n",
    "plt.legend()\n",
    "plt.savefig(\"abs_mag_sampleA.png\")"
   ]
  },
  {
   "cell_type": "code",
   "execution_count": 28,
   "id": "1e2ee54f-2a71-4430-a2d4-24169f047971",
   "metadata": {},
   "outputs": [
    {
     "data": {
      "image/png": "[encoded data removed]",
      "text/plain": [
       "<Figure size 432x288 with 1 Axes>"
      ]
     },
     "metadata": {
      "needs_background": "light"
     },
     "output_type": "display_data"
    }
   ],
   "source": [
    "plt.hist(sampleB_z[\"M_g\"],bins=40,alpha=0.5,label=\"g-band\", color = 'cyan')\n",
    "plt.hist(sampleB_z[\"M_r\"],bins=40,alpha=0.5,label=\"r-band\", color = 'darkorange')\n",
    "plt.title(\"Absolute Magnitude galaxies in Sample B\")\n",
    "plt.xlabel(\"Absolute Magnitude\")\n",
    "plt.xlim(-25,-15)\n",
    "#plt.ylim(0, 60000)\n",
    "plt.legend()\n",
    "plt.savefig(\"abs_mag_sampleB.png\")"
   ]
  },
  {
   "cell_type": "code",
   "execution_count": 29,
   "id": "c5b20c9d-f4c6-4ebd-a48a-75cd7cec2567",
   "metadata": {},
   "outputs": [
    {
     "data": {
      "image/png": "[encoded data removed]",
      "text/plain": [
       "<Figure size 432x288 with 1 Axes>"
      ]
     },
     "metadata": {
      "needs_background": "light"
     },
     "output_type": "display_data"
    }
   ],
   "source": [
    "plt.hist(sampleA_z[\"size_g\"],alpha=0.5,bins=50,label=\"g-band\", color = 'cyan')\n",
    "plt.hist(sampleA_z[\"size_r\"],alpha=0.5,bins=25,label=\"r-band\", color = 'darkorange')\n",
    "plt.title(\"Size distribution of galaxies in Sample A\")\n",
    "plt.xlabel(\"Kiloparsec\")\n",
    "#plt.ylabel(\"Count\")\n",
    "plt.legend()\n",
    "plt.xlim(0,25000)\n",
    "plt.savefig(\"phys_size_sampleA.png\")"
   ]
  },
  {
   "cell_type": "code",
   "execution_count": 30,
   "id": "f4103d2a-4909-47e9-a2a3-2f020e7b9804",
   "metadata": {},
   "outputs": [
    {
     "data": {
      "image/png": "[encoded data removed]",
      "text/plain": [
       "<Figure size 432x288 with 1 Axes>"
      ]
     },
     "metadata": {
      "needs_background": "light"
     },
     "output_type": "display_data"
    }
   ],
   "source": [
    "plt.hist(sampleB_z[\"size_g\"],alpha=0.5,bins=140,label=\"g-band\", color = 'cyan')\n",
    "plt.hist(sampleB_z[\"size_r\"],alpha=0.5,bins=125,label=\"r-band\", color = 'darkorange')\n",
    "plt.title(\"Size distribution of galaxies in Sample B\")\n",
    "plt.xlabel(\"Kiloparsec\")\n",
    "#plt.ylabel(\"Count\")\n",
    "plt.legend()\n",
    "plt.xlim(0,25000)\n",
    "plt.savefig(\"phys_size_sampleB.png\")"
   ]
  },
  {
   "cell_type": "code",
   "execution_count": 31,
   "id": "27e00109-7f9f-4d58-9b2b-4148456beae6",
   "metadata": {},
   "outputs": [
    {
     "data": {
      "image/png": "[encoded data removed]",
      "text/plain": [
       "<Figure size 432x288 with 1 Axes>"
      ]
     },
     "metadata": {
      "needs_background": "light"
     },
     "output_type": "display_data"
    }
   ],
   "source": [
    "plt.hist(sampleA_z[\"sb_g\"],alpha=0.5,bins=40,label=\"g-band\", color = 'cyan')\n",
    "plt.hist(sampleA_z[\"sb_r\"],alpha=0.5,bins=25,label=\"r-band\", color = 'darkorange')\n",
    "plt.title(\"Surface Brightness of galaxies in Sample A\")\n",
    "plt.xlabel(\"Surface Brightness\")\n",
    "#plt.ylabel(\"Count\")\n",
    "plt.legend()\n",
    "plt.xlim(15,25)\n",
    "plt.savefig(\"sb_sampleA.png\")"
   ]
  },
  {
   "cell_type": "code",
   "execution_count": 32,
   "id": "e4d72ce3-e44f-4114-b004-62f36e3087e3",
   "metadata": {},
   "outputs": [
    {
     "data": {
      "image/png": "[encoded data removed]",
      "text/plain": [
       "<Figure size 432x288 with 1 Axes>"
      ]
     },
     "metadata": {
      "needs_background": "light"
     },
     "output_type": "display_data"
    }
   ],
   "source": [
    "# Assuming sampleB_z is your DataFrame\n",
    "sb_r_values = sampleB_z[\"sb_r\"]\n",
    "\n",
    "# Filter out infinite values\n",
    "valid_sb_r = sb_r_values[np.isfinite(sb_r_values)]\n",
    "\n",
    "# Assuming sampleB_z is your DataFrame\n",
    "sb_g_values = sampleB_z[\"sb_g\"]\n",
    "\n",
    "# Filter out infinite values\n",
    "valid_sb_g = sb_g_values[np.isfinite(sb_g_values)]\n",
    "\n",
    "plt.hist(valid_sb_g,alpha=0.5,bins=40,label=\"g-band\", color = 'cyan')\n",
    "plt.hist(valid_sb_r,alpha=0.5,bins=25,label=\"r-band\", color = 'darkorange')\n",
    "plt.title(\"Surface Brightness of galaxies in Sample B\")\n",
    "plt.xlabel(\"Surface Brightness\")\n",
    "#plt.ylabel(\"Count\")\n",
    "plt.legend()\n",
    "plt.xlim(15,25)\n",
    "plt.savefig(\"sb_sampleB.png\")"
   ]
  },
  {
   "cell_type": "code",
   "execution_count": null,
   "id": "4b312d97-0fe9-472a-9c25-c04ab9cba823",
   "metadata": {},
   "outputs": [],
   "source": []
  }
 ],
 "metadata": {
  "kernelspec": {
   "display_name": "Python 3 (ipykernel)",
   "language": "python",
   "name": "python3"
  },
  "language_info": {
   "codemirror_mode": {
    "name": "ipython",
    "version": 3
   },
   "file_extension": ".py",
   "mimetype": "text/x-python",
   "name": "python",
   "nbconvert_exporter": "python",
   "pygments_lexer": "ipython3",
   "version": "3.9.12"
  },
  "toc-autonumbering": false
 },
 "nbformat": 4,
 "nbformat_minor": 5
}
